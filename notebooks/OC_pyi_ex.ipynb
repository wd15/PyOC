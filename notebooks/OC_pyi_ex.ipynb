{
 "cells": [
  {
   "cell_type": "markdown",
   "metadata": {},
   "source": [
    "## check environment"
   ]
  },
  {
   "cell_type": "code",
   "execution_count": null,
   "metadata": {
    "collapsed": true
   },
   "outputs": [],
   "source": [
    "requires = ['numpy']"
   ]
  },
  {
   "cell_type": "code",
   "execution_count": null,
   "metadata": {
    "collapsed": false
   },
   "outputs": [],
   "source": [
    "import pip\n",
    "\n",
    "installed_packages = pip.get_installed_distributions()\n",
    "installed_packages_list = sorted([\"%s==%s\" % (i.key, i.version) for i in installed_packages])\n",
    "\n",
    "matching = [[libs for libs in installed_packages_list if x in libs] for x in requires]\n",
    "print matching"
   ]
  },
  {
   "cell_type": "code",
   "execution_count": null,
   "metadata": {
    "collapsed": false
   },
   "outputs": [],
   "source": [
    "!make oc"
   ]
  },
  {
   "cell_type": "code",
   "execution_count": null,
   "metadata": {
    "collapsed": false
   },
   "outputs": [],
   "source": [
    "!make interface"
   ]
  },
  {
   "cell_type": "code",
   "execution_count": null,
   "metadata": {
    "collapsed": false
   },
   "outputs": [],
   "source": [
    "requires = ['libocpy','liboctq.mod','liboceqplus.mod','liboctq.mod']"
   ]
  },
  {
   "cell_type": "code",
   "execution_count": null,
   "metadata": {
    "collapsed": false
   },
   "outputs": [],
   "source": [
    "import os\n",
    "\n",
    "files = os.listdir(\".\")\n",
    "matching = filter(None, [[fs for fs in files if x in fs] for x in requires])\n",
    "print matching\n",
    "\n",
    "if len(matching) == len(requires):\n",
    "    print \"requirement fullfilled\"\n",
    "else:\n",
    "    print \"something is missing\""
   ]
  },
  {
   "cell_type": "markdown",
   "metadata": {},
   "source": [
    "============================================================== <br>\n",
    "## prepare the libraries for ploting"
   ]
  },
  {
   "cell_type": "code",
   "execution_count": 1,
   "metadata": {
    "collapsed": true
   },
   "outputs": [],
   "source": [
    "# http://matplotlib.org/\n",
    "import matplotlib.pyplot as plt\n",
    "from matplotlib import ticker\n",
    "%matplotlib inline"
   ]
  },
  {
   "cell_type": "code",
   "execution_count": 2,
   "metadata": {
    "collapsed": true
   },
   "outputs": [],
   "source": [
    "import numpy as np"
   ]
  },
  {
   "cell_type": "markdown",
   "metadata": {},
   "source": [
    "# import OC python interface"
   ]
  },
  {
   "cell_type": "code",
   "execution_count": 3,
   "metadata": {
    "collapsed": false
   },
   "outputs": [],
   "source": [
    "from libocpy import *"
   ]
  },
  {
   "cell_type": "markdown",
   "metadata": {},
   "source": [
    "## initiate OC "
   ]
  },
  {
   "cell_type": "code",
   "execution_count": 4,
   "metadata": {
    "collapsed": false
   },
   "outputs": [],
   "source": [
    "tqini()"
   ]
  },
  {
   "cell_type": "markdown",
   "metadata": {},
   "source": [
    "## read the database with selected element(s)"
   ]
  },
  {
   "cell_type": "code",
   "execution_count": 5,
   "metadata": {
    "collapsed": false
   },
   "outputs": [],
   "source": [
    "tqrpfil('database/FENI.TDB',('FE','NI'))"
   ]
  },
  {
   "cell_type": "markdown",
   "metadata": {},
   "source": [
    "============================================================== <br>\n",
    "## DEMO: the name of all the loaded elements"
   ]
  },
  {
   "cell_type": "code",
   "execution_count": null,
   "metadata": {
    "collapsed": false
   },
   "outputs": [],
   "source": [
    "element_name = tqgcom()\n",
    "print \"element name:  \",element_name"
   ]
  },
  {
   "cell_type": "markdown",
   "metadata": {},
   "source": [
    "## DEMO: number of phases"
   ]
  },
  {
   "cell_type": "code",
   "execution_count": null,
   "metadata": {
    "collapsed": false
   },
   "outputs": [],
   "source": [
    "number_phase = tqgnp()\n",
    "print \"# of phases:   \",number_phase"
   ]
  },
  {
   "cell_type": "markdown",
   "metadata": {},
   "source": [
    "## DEMO: name of the phases"
   ]
  },
  {
   "cell_type": "code",
   "execution_count": null,
   "metadata": {
    "collapsed": false
   },
   "outputs": [],
   "source": [
    "phase_name = tqgpn()\n",
    "print \"phase name:  \",phase_name"
   ]
  },
  {
   "cell_type": "markdown",
   "metadata": {},
   "source": [
    "## DEMO: phase index"
   ]
  },
  {
   "cell_type": "code",
   "execution_count": null,
   "metadata": {
    "collapsed": false
   },
   "outputs": [],
   "source": [
    "phase_index = tqgpi('liq')\n",
    "print \"phase index:  \",phase_index"
   ]
  },
  {
   "cell_type": "markdown",
   "metadata": {},
   "source": [
    "## DEMO: change phase status"
   ]
  },
  {
   "cell_type": "code",
   "execution_count": null,
   "metadata": {
    "collapsed": false
   },
   "outputs": [],
   "source": [
    "tqphsts(\"*\",\"SUS\",0.)\n",
    "tqphsts(\"FCC\",\"ENT\",1.)"
   ]
  },
  {
   "cell_type": "markdown",
   "metadata": {},
   "source": [
    "============================================================== <br>\n",
    "# setup conditions"
   ]
  },
  {
   "cell_type": "code",
   "execution_count": 6,
   "metadata": {
    "collapsed": false
   },
   "outputs": [],
   "source": [
    "tqsetc('N',0,1.)\n",
    "tqsetc('P',0,1E5)\n",
    "tqsetc('T',0,300.)\n",
    "\n",
    "tqsetc('X','NI',0.1)"
   ]
  },
  {
   "cell_type": "markdown",
   "metadata": {},
   "source": [
    "# equalibrium calculation"
   ]
  },
  {
   "cell_type": "code",
   "execution_count": 7,
   "metadata": {
    "collapsed": true
   },
   "outputs": [],
   "source": [
    "tqce()"
   ]
  },
  {
   "cell_type": "markdown",
   "metadata": {},
   "source": [
    "## DEMO: get results from calculation -- molar free energy"
   ]
  },
  {
   "cell_type": "code",
   "execution_count": 8,
   "metadata": {
    "collapsed": false
   },
   "outputs": [
    {
     "name": "stdout",
     "output_type": "stream",
     "text": [
      "0.168924226143\n"
     ]
    }
   ],
   "source": [
    "GM = tqgetv('NP','FCC','NA')\n",
    "print GM"
   ]
  },
  {
   "cell_type": "markdown",
   "metadata": {},
   "source": [
    "## load data calculated using Thermocalc"
   ]
  },
  {
   "cell_type": "code",
   "execution_count": 9,
   "metadata": {
    "collapsed": false
   },
   "outputs": [],
   "source": [
    "tc_fcc = np.loadtxt('tc/fcc_all.dat')   # all phases\n",
    "tc_fcc2 = np.loadtxt('tc/fcc_sep.dat')  # A1 only\n",
    "tc_fcc3 = np.loadtxt('tc/fcc_2ph.dat')  # A1 + A1#2\n",
    "\n",
    "tc_bcc = np.loadtxt('tc/bcc.dat')\n",
    "tc_liq = np.loadtxt('tc/liq.dat')"
   ]
  },
  {
   "cell_type": "markdown",
   "metadata": {},
   "source": [
    "## step calculation"
   ]
  },
  {
   "cell_type": "code",
   "execution_count": 10,
   "metadata": {
    "collapsed": false
   },
   "outputs": [],
   "source": [
    "import numpy as np\n",
    "\n",
    "T = np.linspace(300,1500,100)"
   ]
  },
  {
   "cell_type": "code",
   "execution_count": 11,
   "metadata": {
    "collapsed": false
   },
   "outputs": [],
   "source": [
    "tqphsts(\"*\",\"SUS\",0.)\n",
    "tqphsts(\"FCC\",\"ENT\",1.)\n",
    "\n",
    "GM_FCC = []\n",
    "for i in range(len(T)):\n",
    "    tqsetc('T',0,T[i])\n",
    "    tqce()\n",
    "    \n",
    "    GM_FCC.append(tqgetv('GM','*','NA'))"
   ]
  },
  {
   "cell_type": "code",
   "execution_count": 12,
   "metadata": {
    "collapsed": false
   },
   "outputs": [],
   "source": [
    "tqphsts(\"*\",\"SUS\",0.)\n",
    "tqphsts(\"BCC\",\"ENT\",1.)\n",
    "\n",
    "GM_BCC = []\n",
    "for i in range(len(T)):\n",
    "    tqsetc('T',0,T[i])\n",
    "    tqce()\n",
    "    \n",
    "    GM_BCC.append(tqgetv('GM','BCC','NA'))"
   ]
  },
  {
   "cell_type": "code",
   "execution_count": 13,
   "metadata": {
    "collapsed": false
   },
   "outputs": [],
   "source": [
    "tqphsts(\"*\",\"SUS\",0.)\n",
    "tqphsts(\"LIQ\",\"ENT\",1.)\n",
    "\n",
    "GM_LIQ = []   \n",
    "for i in range(len(T)):\n",
    "    tqsetc('T',0,T[i])\n",
    "    tqce()\n",
    "    \n",
    "    GM_LIQ.append(tqgetv('GM','LIQ','NA'))"
   ]
  },
  {
   "cell_type": "markdown",
   "metadata": {},
   "source": [
    "## plot"
   ]
  },
  {
   "cell_type": "code",
   "execution_count": 14,
   "metadata": {
    "collapsed": false,
    "scrolled": false
   },
   "outputs": [
    {
     "data": {
      "image/png": "[encoded data removed]",
      "text/plain": [
       "<matplotlib.figure.Figure at 0x7f1fce2e0b10>"
      ]
     },
     "metadata": {},
     "output_type": "display_data"
    }
   ],
   "source": [
    "fig, ax = plt.subplots(figsize=(12, 9))\n",
    "ax.plot(T,GM_FCC,c='k',lw=3,zorder=5)\n",
    "#ax.plot(T,GM_FCC2,c='b')\n",
    "\n",
    "#ax.plot(tc_fcc[:,0],tc_fcc[:,1],'o',c='k',markevery=5)\n",
    "#ax.plot(tc_fcc2[:,0],tc_fcc2[:,1],'o',c='y',markevery=2)    # A1 only\n",
    "ax.plot(tc_fcc3[:,0],tc_fcc3[:,1],'o',markersize=10,c='y',markevery=5)    # A1 + A1#2\n",
    "\n",
    "\n",
    "ax.plot(T,GM_BCC,c='k',lw=3,zorder=5)\n",
    "ax.plot(tc_bcc[:,0],tc_bcc[:,1],'o',markersize=10,c='b',markevery=5)\n",
    "ax.plot(T,GM_LIQ,c='k',lw=3,zorder=5)\n",
    "ax.plot(tc_liq[:,0],tc_liq[:,1],'o',markersize=10,c='r',markevery=5)\n",
    "\n",
    "\n",
    "plt.show()"
   ]
  },
  {
   "cell_type": "markdown",
   "metadata": {},
   "source": [
    "============================================================== <br>\n",
    "## PyCALPHAD <br>\n",
    "Mine PyCALPHAD does not work... will update it soon"
   ]
  },
  {
   "cell_type": "code",
   "execution_count": null,
   "metadata": {
    "collapsed": false
   },
   "outputs": [],
   "source": [
    "from pycalphad import calculate, equilibrium, Database, binplot\n",
    "import pycalphad.variables as v\n",
    "\n",
    "db_ = Database('FENI_pc.TDB')\n",
    "my_phases_ = ['LIQUID','FCC_A1','BCC_A2']"
   ]
  },
  {
   "cell_type": "code",
   "execution_count": null,
   "metadata": {
    "collapsed": false
   },
   "outputs": [],
   "source": [
    "pyceq_fcc = equilibrium(db_, ['FE', 'NI', 'VA'], 'FCC_A1', {v.X('NI'): 0.1, v.T: (300, 1500, 30), v.P: 100000})"
   ]
  },
  {
   "cell_type": "code",
   "execution_count": null,
   "metadata": {
    "collapsed": false
   },
   "outputs": [],
   "source": [
    "fig, ax = plt.subplots(figsize=(12, 9))\n",
    "ax.plot(T,GM_FCC,c='k',lw=3,zorder=5)\n",
    "ax.plot(tc_fcc3[:,0],tc_fcc3[:,1],'o',markersize=10,c='y',markevery=5)    # A1 + A1#2\n",
    "ax.plot(pyceq_fcc['T'],pyceq_fcc['GM'][0],'o',markersize=10,c='b')\n",
    "\n",
    "plt.show()"
   ]
  },
  {
   "cell_type": "code",
   "execution_count": null,
   "metadata": {
    "collapsed": false
   },
   "outputs": [],
   "source": [
    "pyceq_bcc = equilibrium(db_, ['FE', 'NI', 'VA'], 'BCC_A2', {v.X('NI'): 0.1, v.T: (300, 1500, 30), v.P: 100000})\n",
    "\n",
    "fig, ax = plt.subplots(figsize=(12, 9))\n",
    "ax.plot(T,GM_BCC,c='k',lw=3,zorder=5)\n",
    "ax.plot(tc_bcc[:,0],tc_bcc[:,1],'o',markersize=10,c='y',markevery=5)\n",
    "ax.plot(pyceq_bcc['T'],pyceq_bcc['GM'][0],'o',markersize=10,c='b')\n",
    "\n",
    "plt.show()"
   ]
  },
  {
   "cell_type": "code",
   "execution_count": null,
   "metadata": {
    "collapsed": false
   },
   "outputs": [],
   "source": [
    "pyceq_liq = equilibrium(db_, ['FE', 'NI', 'VA'], 'LIQUID', {v.X('NI'): 0.1, v.T: (300, 1500, 30), v.P: 100000})\n",
    "\n",
    "fig, ax = plt.subplots(figsize=(12, 9))\n",
    "ax.plot(T,GM_LIQ,c='k',lw=3,zorder=5)\n",
    "ax.plot(tc_liq[:,0],tc_liq[:,1],'o',markersize=10,c='y',markevery=5)\n",
    "ax.plot(pyceq_liq['T'],pyceq_liq['GM'][0],'o',markersize=10,c='b')\n",
    "\n",
    "plt.show()"
   ]
  },
  {
   "cell_type": "markdown",
   "metadata": {},
   "source": [
    "# reset error"
   ]
  },
  {
   "cell_type": "code",
   "execution_count": null,
   "metadata": {
    "collapsed": true
   },
   "outputs": [],
   "source": [
    "tqrseterr()"
   ]
  },
  {
   "cell_type": "code",
   "execution_count": null,
   "metadata": {
    "collapsed": true
   },
   "outputs": [],
   "source": []
  }
 ],
 "metadata": {
  "kernelspec": {
   "display_name": "Python 2",
   "language": "python",
   "name": "python2"
  },
  "language_info": {
   "codemirror_mode": {
    "name": "ipython",
    "version": 2
   },
   "file_extension": ".py",
   "mimetype": "text/x-python",
   "name": "python",
   "nbconvert_exporter": "python",
   "pygments_lexer": "ipython2",
   "version": "2.7.11"
  }
 },
 "nbformat": 4,
 "nbformat_minor": 0
}

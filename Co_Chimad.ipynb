{
 "cells": [
  {
   "cell_type": "code",
   "execution_count": 1,
   "metadata": {
    "collapsed": true
   },
   "outputs": [],
   "source": [
    "# http://matplotlib.org/\n",
    "import matplotlib.pyplot as plt\n",
    "from matplotlib import ticker\n",
    "%matplotlib inline"
   ]
  },
  {
   "cell_type": "code",
   "execution_count": 2,
   "metadata": {
    "collapsed": true
   },
   "outputs": [],
   "source": [
    "import numpy as np"
   ]
  },
  {
   "cell_type": "code",
   "execution_count": 3,
   "metadata": {
    "collapsed": false
   },
   "outputs": [],
   "source": [
    "from libocpy import *"
   ]
  },
  {
   "cell_type": "code",
   "execution_count": 4,
   "metadata": {
    "collapsed": false
   },
   "outputs": [
    {
     "name": "stdout",
     "output_type": "stream",
     "text": [
      "('CO', 'NI', 'AL', 'W') database/Co_Chimad.TDB\n",
      "DATABASE/CO_CHIMAD.TDB CO NI AL W\n"
     ]
    }
   ],
   "source": [
    "tqini()\n",
    "tqrpfil('database/Co_Chimad.TDB',('CO','NI','AL','W'))"
   ]
  },
  {
   "cell_type": "code",
   "execution_count": 5,
   "metadata": {
    "collapsed": false
   },
   "outputs": [
    {
     "name": "stdout",
     "output_type": "stream",
     "text": [
      "element name:   ['AL', 'CO', 'NI', 'W']\n"
     ]
    }
   ],
   "source": [
    "element_name = tqgcom()\n",
    "print \"element name:  \",element_name"
   ]
  },
  {
   "cell_type": "code",
   "execution_count": 6,
   "metadata": {
    "collapsed": false
   },
   "outputs": [
    {
     "name": "stdout",
     "output_type": "stream",
     "text": [
      "# of phases:    43\n"
     ]
    }
   ],
   "source": [
    "number_phase = tqgnp()\n",
    "print \"# of phases:   \",number_phase"
   ]
  },
  {
   "cell_type": "code",
   "execution_count": 7,
   "metadata": {
    "collapsed": false
   },
   "outputs": [
    {
     "name": "stdout",
     "output_type": "stream",
     "text": [
      "phase name:   ['AL12W', 'AL13CO4', 'AL2W', 'AL3CO', 'AL3NI1', 'AL3NI2', 'AL3NI5', 'AL3RU2', 'AL4W', 'AL5CO2', 'AL5W', 'AL77W23', 'AL7W3', 'AL9CO2', 'ALM3_D019', 'ALTI', 'BCC_B2', 'C14_LAVES', 'C15_LAVES', 'C16_MXTA2', 'C36_LAVES', 'CHI', 'CO7TA2', 'DO22', 'DOA', 'EPSILON_L', 'ETA_AL2TI', 'HCP_A3', 'KAPPA', 'L12_FCC', 'LIQUID', 'MU', 'NI2TA', 'NI3TI', 'NI4W', 'NITI2', 'NIW', 'NIW2', 'O_ALTATI2', 'PHI_ALTA', 'PT3TA', 'SIGMA', 'ZETA_AL5TI2']\n",
      "43\n"
     ]
    }
   ],
   "source": [
    "phase_name = tqgpn()\n",
    "print \"phase name:  \",phase_name\n",
    "print len(phase_name)"
   ]
  },
  {
   "cell_type": "code",
   "execution_count": 8,
   "metadata": {
    "collapsed": true
   },
   "outputs": [],
   "source": [
    "tqsetc('N',0,1.)\n",
    "tqsetc('P',0,1E5)\n",
    "tqsetc('T',0,900)\n",
    "tqsetc('X','NI',0.1)\n",
    "tqsetc('X','AL',0.12)\n",
    "tqsetc('X','W',0.15)"
   ]
  },
  {
   "cell_type": "code",
   "execution_count": 9,
   "metadata": {
    "collapsed": true
   },
   "outputs": [],
   "source": [
    "tqce()"
   ]
  },
  {
   "cell_type": "code",
   "execution_count": 10,
   "metadata": {
    "collapsed": false
   },
   "outputs": [
    {
     "name": "stdout",
     "output_type": "stream",
     "text": [
      "{'C14_LAVES': 0.0, 'NI3TI': 0.0, 'DO22': 0.0, 'HCP_A3': 0.0, 'DOA': 0.0, 'O_ALTATI2': 0.0, 'AL3RU2': 0.0, 'NI4W': 0.0, 'AL5W': 0.0, 'SIGMA': 0.0, 'L12_FCC': 0.58231602555836448, 'CO7TA2': 0.0, 'LIQUID': 0.0, 'AL3NI1': 0.0, 'AL3NI2': 0.0, 'AL3NI5': 0.0, 'BCC_B2': 0.0, 'AL13CO4': 0.0, 'EPSILON_L': 0.0, 'PT3TA': 0.0, 'AL7W3': 0.0, 'AL5CO2': 0.0, 'AL3CO': 0.0, 'KAPPA': 0.0, 'CHI': 0.39346255799546326, 'NI2TA': 0.0, 'NIW2': 0.0, 'NITI2': 0.0, 'AL2W': 0.0, 'PHI_ALTA': 0.0, 'AL4W': 0.0, 'ETA_AL2TI': 0.0, 'AL12W': 0.0, 'ALTI': 0.0, 'AL9CO2': 0.0, 'ALM3_D019': 0.0, 'AL77W23': 0.0, 'ZETA_AL5TI2': 0.0, 'NIW': 0.0, 'MU': 0.024221416446171436, 'C15_LAVES': 0.0, 'C16_MXTA2': 0.0, 'C36_LAVES': 0.0}\n",
      "'ZETA_AL5TI2'\n",
      "\n",
      "Z 0.0\n",
      "E 0.0\n",
      "T 0.0\n",
      "A 0.0\n",
      "_ 0.0\n",
      "A 0.0\n",
      "L 0.0\n",
      "5 0.0\n",
      "T 0.0\n",
      "I 0.0\n",
      "2 0.0\n"
     ]
    }
   ],
   "source": [
    "phase_name = tqgpn()\n",
    "phase_names_equil = tqgpn()\n",
    "phase_fractions = [tqgetv('NP', phase_name, 'NA') for phase_name in phase_names_equil]\n",
    "\n",
    "print repr(dict(zip(phase_names_equil, phase_fractions)))\n",
    "\n",
    "print repr(phase_name)\n",
    "print \n",
    "for i in range(len(phase_name)):\n",
    "        print phase_name[i],tqgetv('NP',phase_name[i],'NA')"
   ]
  },
  {
   "cell_type": "code",
   "execution_count": 11,
   "metadata": {
    "collapsed": false
   },
   "outputs": [
    {
     "name": "stdout",
     "output_type": "stream",
     "text": [
      "condition X AL 1 0.12\n",
      "condition X NI 3 0.1\n",
      "condition X W 4 0.15\n",
      "condition N   0 1.0\n",
      "condition P   0 100000.0\n",
      "condition T   0 900\n",
      "AL12W 0.0\n",
      "AL13CO4 0.0\n",
      "AL2W 0.0\n",
      "AL3CO 0.0\n",
      "AL3NI1 0.0\n",
      "AL3NI2 0.0\n",
      "AL3NI5 0.0\n",
      "AL3RU2 0.0\n",
      "AL4W 0.0\n",
      "AL5CO2 0.0\n",
      "AL5W 0.0\n",
      "AL77W23 0.0\n",
      "AL7W3 0.0\n",
      "AL9CO2 0.0\n",
      "ALM3_D019 0.0\n",
      "ALTI 0.0\n",
      "BCC_B2 0.0\n",
      "C14_LAVES 0.0\n",
      "C15_LAVES 0.0\n",
      "C16_MXTA2 0.0\n",
      "C36_LAVES 0.0\n",
      "CHI 0.393462532677\n",
      "CO7TA2 0.0\n",
      "DO22 0.0\n",
      "DOA 0.0\n",
      "EPSILON_L 0.0\n",
      "ETA_AL2TI 0.0\n",
      "HCP_A3 0.0\n",
      "KAPPA 0.0\n",
      "L12_FCC 0.582316079764\n",
      "LIQUID 0.0\n",
      "MU 0.0242213875585\n",
      "NI2TA 0.0\n",
      "NI3TI 0.0\n",
      "NI4W 0.0\n",
      "NITI2 0.0\n",
      "NIW 0.0\n",
      "NIW2 0.0\n",
      "O_ALTATI2 0.0\n",
      "PHI_ALTA 0.0\n",
      "PT3TA 0.0\n",
      "SIGMA 0.0\n",
      "ZETA_AL5TI2 0.0\n"
     ]
    }
   ],
   "source": [
    "tqsetcs({'T':900,'P':1E5,'N':1.,'X(NI)':0.1,'X(AL)':0.12,'X(W)':0.15})\n",
    "tqce()\n",
    "\n",
    "phase_name = tqgpn()\n",
    "for i in range(len(phase_name)):\n",
    "    print phase_name[i],tqgetv('NP',phase_name[i],'NA')"
   ]
  },
  {
   "cell_type": "code",
   "execution_count": 12,
   "metadata": {
    "collapsed": true
   },
   "outputs": [],
   "source": [
    "T = np.linspace(500,1500,50)\n",
    "\n",
    "tqphsts(\"*\",\"SUS\",0.)\n",
    "tqphsts(\"BCC\",\"ENT\",1.)\n",
    "tqphsts(\"L12\",\"ENT\",1.)"
   ]
  },
  {
   "cell_type": "code",
   "execution_count": 13,
   "metadata": {
    "collapsed": false
   },
   "outputs": [
    {
     "name": "stdout",
     "output_type": "stream",
     "text": [
      "[0.26675020237180319, 0.2695837201374871, 0.27233510967799979, 0.27497961780949498, 0.14999809482541621, 0.27986689732531289, 0.14999569861892356, 0.28412192440195072, 0.14999058356846937, 0.14998621534373788, 0.28921941517683836, 0.29059433117395173, 0.29183298979013106, 0.29296261634652415, 0.29402059900877858, 0.29505742704647608, 0.29614145454678698, 0.29736693097169248, 0.29886825014467733, 0.30084693553197017, 0.30362729056195775, 0.30778506458753119, 0.31449351996042846, 0.3266208609464597, 0.35118441507036369, 0.3872403322676054, 0.4205087831746972, 0.45076361518351499, 0.4801648431474369, 0.5100983284613495, 0.91226128356372871, 0.12402511915394167, 0.61279477884258093, 0.12020305273699453, 0.11831035656191249, 0.11656687493363968, 0.11495473534346042, 0.11345921260503246, 0.11206789019299096, 0.11077024692080557, 0.10955728491530409, 0.10842125069001407, 0.10735546515947272, 0.10635413986504474, 0.10541223016817101, 0.1045253588559842, 0.10368968778558225, 0.1029018725602487, 0.10215898413460409, 0.1014584445747258]\n",
      "500.0 0.266750202372\n",
      "520.408163265 0.269583720137\n",
      "540.816326531 0.272335109678\n",
      "561.224489796 0.274979617809\n",
      "581.632653061 0.149998094825\n",
      "602.040816327 0.279866897325\n",
      "622.448979592 0.149995698619\n",
      "642.857142857 0.284121924402\n",
      "663.265306122 0.149990583568\n",
      "683.673469388 0.149986215344\n",
      "704.081632653 0.289219415177\n",
      "724.489795918 0.290594331174\n",
      "744.897959184 0.29183298979\n",
      "765.306122449 0.292962616347\n",
      "785.714285714 0.294020599009\n",
      "806.12244898 0.295057427046\n",
      "826.530612245 0.296141454547\n",
      "846.93877551 0.297366930972\n",
      "867.346938776 0.298868250145\n",
      "887.755102041 0.300846935532\n",
      "908.163265306 0.303627290562\n",
      "928.571428571 0.307785064588\n",
      "948.979591837 0.31449351996\n",
      "969.387755102 0.326620860946\n",
      "989.795918367 0.35118441507\n",
      "1010.20408163 0.387240332268\n",
      "1030.6122449 0.420508783175\n",
      "1051.02040816 0.450763615184\n",
      "1071.42857143 0.480164843147\n",
      "1091.83673469 0.510098328461\n",
      "1112.24489796 0.912261283564\n",
      "1132.65306122 0.124025119154\n",
      "1153.06122449 0.612794778843\n",
      "1173.46938776 0.120203052737\n",
      "1193.87755102 0.118310356562\n",
      "1214.28571429 0.116566874934\n",
      "1234.69387755 0.114954735343\n",
      "1255.10204082 0.113459212605\n",
      "1275.51020408 0.112067890193\n",
      "1295.91836735 0.110770246921\n",
      "1316.32653061 0.109557284915\n",
      "1336.73469388 0.10842125069\n",
      "1357.14285714 0.107355465159\n",
      "1377.55102041 0.106354139865\n",
      "1397.95918367 0.105412230168\n",
      "1418.36734694 0.104525358856\n",
      "1438.7755102 0.103689687786\n",
      "1459.18367347 0.10290187256\n",
      "1479.59183673 0.102158984135\n",
      "1500.0 0.101458444575\n"
     ]
    }
   ],
   "source": [
    "GM_FCC = []\n",
    "\n",
    "for i in range(len(T)):\n",
    "    tqsetc('T',0,T[i])\n",
    "    tqce()\n",
    "    \n",
    "    GM_FCC.append(tqgetv('NP','BCC','NA'))\n",
    "    \n",
    "print repr(GM_FCC)\n",
    "for i in range(len(T)):\n",
    "    print T[i],GM_FCC[i]"
   ]
  },
  {
   "cell_type": "code",
   "execution_count": null,
   "metadata": {
    "collapsed": true
   },
   "outputs": [],
   "source": []
  },
  {
   "cell_type": "code",
   "execution_count": null,
   "metadata": {
    "collapsed": true
   },
   "outputs": [],
   "source": []
  }
 ],
 "metadata": {
  "kernelspec": {
   "display_name": "Python 2",
   "language": "python",
   "name": "python2"
  },
  "language_info": {
   "codemirror_mode": {
    "name": "ipython",
    "version": 2
   },
   "file_extension": ".py",
   "mimetype": "text/x-python",
   "name": "python",
   "nbconvert_exporter": "python",
   "pygments_lexer": "ipython2",
   "version": "2.7.11"
  }
 },
 "nbformat": 4,
 "nbformat_minor": 0
}
